{
 "cells": [
  {
   "cell_type": "code",
   "execution_count": 1,
   "metadata": {},
   "outputs": [],
   "source": [
    "import binascii\n",
    "from collections import Counter"
   ]
  },
  {
   "cell_type": "code",
   "execution_count": 2,
   "metadata": {},
   "outputs": [],
   "source": [
    "#from https://joernhees.de/blog/2010/09/21/how-to-convert-hex-strings-to-binary-ascii-strings-in-python-incl-8bit-space/\n",
    "binary = lambda x: \" \".join(reversed( [i+j for i,j in zip( *[ [\"{0:04b}\".format(int(c,16)) for c in reversed(\"0\"+x)][n::2] for n in [1,0] ] ) ] ))"
   ]
  },
  {
   "cell_type": "code",
   "execution_count": 3,
   "metadata": {},
   "outputs": [
    {
     "name": "stdout",
     "output_type": "stream",
     "text": [
      "['00000000 00000000 01100010 00000000', '00000000 00000000 01110000 00000000', '00000000 00000000 10000000 00000000', '00000000 00000000 10001000 00000000', '00000000 00000000 10100000 00000000', '00000000 00000000 10110000 00000000', '00000000 00000000 11000000 00000000', '00000000 00000000 11001000 00000000', '00000000 00000000 11100000 00000000', '00000000 00000000 11110000 00000000', '00000000 00000001 00000000 00000000', '00000000 00000001 00001000 00000000', '00000000 00000001 00100000 00000000', '00000000 00000001 00110000 00000000', '00000000 00000001 01000000 00000000', '00000000 00000001 01001000 00000000']\n"
     ]
    }
   ],
   "source": [
    "# Virtual addresses\n",
    "hex_strings = ['0x00006200','0x00007000','0x00008000','0x00008800','0x0000a000','0x0000b000','0x0000c000','0x0000c800', '0x0000e000','0x0000f000','0x00010000','0x00010800','0x00012000','0x00013000','0x00014000','0x00014800']\n",
    "bin_strings_v = []\n",
    "\n",
    "for hex in hex_strings:\n",
    "    bin_strings_v.append(binary(hex.replace('0x','')))\n",
    "    \n",
    "print(bin_strings_v)"
   ]
  },
  {
   "cell_type": "code",
   "execution_count": 4,
   "metadata": {},
   "outputs": [
    {
     "name": "stdout",
     "output_type": "stream",
     "text": [
      "['01010101 10101010 00101110 11001000 01110010 00000000', '01010101 10101010 00101110 11001000 10000000 00000000', '01010101 10101010 00101110 11001000 10010000 00000000', '01010101 10101010 00101110 11001000 10011000 00000000', '01010101 10101010 00101110 11001000 10110000 00000000', '01010101 10101010 00101110 11001000 11000000 00000000', '01010101 10101010 00101110 11001000 11010000 00000000', '01010101 10101010 00101110 11001000 11011000 00000000', '01010101 10101010 00101110 11001000 11110000 00000000', '01010101 10101010 00101110 11001001 00000000 00000000', '01010101 10101010 00101110 11001001 00010000 00000000', '01010101 10101010 00101110 11001001 00011000 00000000', '01010101 10101010 00101110 11001001 00110000 00000000', '01010101 10101010 00101110 11001001 01000000 00000000', '01010101 10101010 00101110 11001001 01010000 00000000', '01010101 10101010 00101110 11001001 01011000 00000000']\n"
     ]
    }
   ],
   "source": [
    "# Physical addresses\n",
    "hex_strings = ['0x55aa2ec87200','0x55aa2ec88000','0x55aa2ec89000','0x55aa2ec89800','0x55aa2ec8b000','0x55aa2ec8c000','0x55aa2ec8d000','0x55aa2ec8d800', '0x55aa2ec8f000','0x55aa2ec90000','0x55aa2ec91000','0x55aa2ec91800','0x55aa2ec93000','0x55aa2ec94000','0x55aa2ec95000','0x55aa2ec95800']\n",
    "bin_strings_p = []\n",
    "for hex in hex_strings:\n",
    "    bin_strings_p.append(binary(hex.replace('0x','')))\n",
    "    \n",
    "print(bin_strings_p)"
   ]
  },
  {
   "cell_type": "code",
   "execution_count": 5,
   "metadata": {},
   "outputs": [],
   "source": [
    "def remove_space(strings):\n",
    "    new_list = []\n",
    "    for s in strings:\n",
    "        new_list.append(s.replace(' ',''))\n",
    "    return new_list"
   ]
  },
  {
   "cell_type": "code",
   "execution_count": 6,
   "metadata": {},
   "outputs": [],
   "source": [
    "virtual_addresses = remove_space(bin_strings_v)\n",
    "physical_addresses = remove_space(bin_strings_p)"
   ]
  },
  {
   "cell_type": "code",
   "execution_count": 7,
   "metadata": {},
   "outputs": [],
   "source": [
    "def XOR(string, bit1, bit2):\n",
    "    b1 = string[len(string)-1-bit1]\n",
    "    b2 = string[len(string)-1-bit2]\n",
    "    return int(b1)^int(b2)"
   ]
  },
  {
   "cell_type": "code",
   "execution_count": 8,
   "metadata": {},
   "outputs": [
    {
     "data": {
      "text/plain": [
       "0"
      ]
     },
     "execution_count": 8,
     "metadata": {},
     "output_type": "execute_result"
    }
   ],
   "source": [
    "XOR(physical_addresses[0], 9, 12)"
   ]
  },
  {
   "cell_type": "code",
   "execution_count": 9,
   "metadata": {},
   "outputs": [],
   "source": [
    "def XOR_HASH(string, start, end):\n",
    "    length = int((start-end+1)/2)\n",
    "    xors = []\n",
    "    for i in range(length):\n",
    "        xors.append(XOR(string, start-i, start-length-i))\n",
    "    return xors"
   ]
  },
  {
   "cell_type": "code",
   "execution_count": 10,
   "metadata": {},
   "outputs": [
    {
     "data": {
      "text/plain": [
       "[1, 0, 1, 1, 1, 0, 1, 0]"
      ]
     },
     "execution_count": 10,
     "metadata": {},
     "output_type": "execute_result"
    }
   ],
   "source": [
    "XOR_HASH(physical_addresses[0], 23, 8)"
   ]
  },
  {
   "cell_type": "code",
   "execution_count": 11,
   "metadata": {},
   "outputs": [],
   "source": [
    "def XOR7(string):\n",
    "    return XOR_HASH(string, 26, 12)\n",
    "\n",
    "def XOR8(string):\n",
    "    return XOR_HASH(string, 28, 12)"
   ]
  },
  {
   "cell_type": "code",
   "execution_count": 12,
   "metadata": {},
   "outputs": [
    {
     "name": "stdout",
     "output_type": "stream",
     "text": [
      "XOR-7 on eviction set\n",
      "Counter({(0, 0, 0, 0, 0, 1, 1): 2, (0, 0, 0, 0, 1, 0, 0): 2, (0, 0, 0, 0, 1, 0, 1): 2, (0, 0, 0, 0, 1, 1, 0): 2, (0, 0, 0, 0, 1, 1, 1): 2, (0, 0, 0, 1, 0, 0, 0): 2, (0, 0, 0, 1, 0, 0, 1): 2, (0, 0, 0, 1, 0, 1, 0): 2})\n",
      "\n",
      "XOR-8 on eviction set\n",
      "Counter({(0, 0, 0, 0, 0, 0, 1, 1): 2, (0, 0, 0, 0, 0, 1, 0, 0): 2, (0, 0, 0, 0, 0, 1, 0, 1): 2, (0, 0, 0, 0, 0, 1, 1, 0): 2, (0, 0, 0, 0, 0, 1, 1, 1): 2, (0, 0, 0, 0, 1, 0, 0, 0): 2, (0, 0, 0, 0, 1, 0, 0, 1): 2, (0, 0, 0, 0, 1, 0, 1, 0): 2})\n"
     ]
    }
   ],
   "source": [
    "print(\"XOR-7 on eviction set\")\n",
    "xor7s = []\n",
    "for address in virtual_addresses:\n",
    "    xor7s.append(XOR7(address))\n",
    "    #print(xor7s[len(xor7s)-1])\n",
    "print(Counter([tuple(i) for i in xor7s]))\n",
    "\n",
    "print('')\n",
    "print(\"XOR-8 on eviction set\")\n",
    "xor8s = []\n",
    "for address in virtual_addresses:\n",
    "    xor8s.append(XOR8(address))\n",
    "    #print(xor8s[len(xor8s)-1])\n",
    "print(Counter([tuple(i) for i in xor8s]))"
   ]
  },
  {
   "cell_type": "code",
   "execution_count": 26,
   "metadata": {},
   "outputs": [
    {
     "name": "stdout",
     "output_type": "stream",
     "text": [
      "[0, 0, 1, 0, 0, 0, 0, 1, 1, 1]\n",
      "[0, 0, 1, 0, 0, 0, 0, 1, 1, 0]\n",
      "[0, 0, 1, 0, 0, 0, 0, 1, 1, 0]\n",
      "[0, 0, 1, 0, 0, 0, 0, 1, 1, 0]\n",
      "[0, 0, 1, 0, 0, 0, 0, 1, 1, 0]\n",
      "[0, 0, 1, 0, 0, 0, 0, 1, 1, 0]\n",
      "[0, 0, 1, 0, 0, 0, 0, 1, 1, 0]\n",
      "[0, 0, 1, 0, 0, 0, 0, 1, 1, 0]\n",
      "[0, 0, 1, 0, 0, 0, 0, 1, 1, 0]\n",
      "[0, 0, 1, 0, 0, 0, 0, 1, 0, 1]\n",
      "[0, 0, 1, 0, 0, 0, 0, 1, 0, 1]\n",
      "[0, 0, 1, 0, 0, 0, 0, 1, 0, 1]\n",
      "[0, 0, 1, 0, 0, 0, 0, 1, 0, 1]\n",
      "[0, 0, 1, 0, 0, 0, 0, 1, 0, 1]\n",
      "[0, 0, 1, 0, 0, 0, 0, 1, 0, 1]\n",
      "[0, 0, 1, 0, 0, 0, 0, 1, 0, 1]\n",
      "Counter({(0, 0, 1, 0, 0, 0, 0, 1, 1, 0): 8, (0, 0, 1, 0, 0, 0, 0, 1, 0, 1): 7, (0, 0, 1, 0, 0, 0, 0, 1, 1, 1): 1})\n"
     ]
    }
   ],
   "source": [
    "# More uniformely distributed results: XOR-ing the bits that change between our physical addresses\n",
    "results = []\n",
    "\n",
    "for address in physical_addresses:\n",
    "    results.append(XOR_HASH(address, 34, 14))\n",
    "    print(results[len(results)-1])\n",
    "    \n",
    "print(Counter([tuple(i) for i in results])) # Check repetitions"
   ]
  },
  {
   "cell_type": "code",
   "execution_count": null,
   "metadata": {},
   "outputs": [],
   "source": []
  }
 ],
 "metadata": {
  "kernelspec": {
   "display_name": "Python 3",
   "language": "python",
   "name": "python3"
  },
  "language_info": {
   "codemirror_mode": {
    "name": "ipython",
    "version": 3
   },
   "file_extension": ".py",
   "mimetype": "text/x-python",
   "name": "python",
   "nbconvert_exporter": "python",
   "pygments_lexer": "ipython3",
   "version": "3.6.5"
  }
 },
 "nbformat": 4,
 "nbformat_minor": 2
}
