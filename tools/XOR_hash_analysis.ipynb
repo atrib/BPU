{
 "cells": [
  {
   "cell_type": "code",
   "execution_count": 1,
   "metadata": {},
   "outputs": [],
   "source": [
    "import binascii\n",
    "from collections import Counter"
   ]
  },
  {
   "cell_type": "code",
   "execution_count": 2,
   "metadata": {},
   "outputs": [],
   "source": [
    "#from https://joernhees.de/blog/2010/09/21/how-to-convert-hex-strings-to-binary-ascii-strings-in-python-incl-8bit-space/\n",
    "binary = lambda x: \" \".join(reversed( [i+j for i,j in zip( *[ [\"{0:04b}\".format(int(c,16)) for c in reversed(\"0\"+x)][n::2] for n in [1,0] ] ) ] ))"
   ]
  },
  {
   "cell_type": "code",
   "execution_count": 39,
   "metadata": {},
   "outputs": [
    {
     "name": "stdout",
     "output_type": "stream",
     "text": [
      "['00000000 00000000 10000000 00000010', '00000000 00000000 10100000 00000010', '00000000 00000000 11000000 00000010', '00000000 00000000 11100000 00000010', '00000000 00000001 00000000 00000010']\n",
      "['00000000 00000000 11000000 00000010', '00000000 00000001 00000000 00000010', '00000000 00000001 01000000 00000010', '00000000 00000001 10000000 00000010', '00000000 00000001 11000000 00000010']\n"
     ]
    }
   ],
   "source": [
    "# Virtual addresses Broadwell evicition set\n",
    "hex_strings = ['0x00008002','0x0000a002','0x0000c002','0x0000e002','0x00010002']\n",
    "hex_strings2 = ['0x0000c002','0x00010002','0x00014002','0x00018002','0x0001c002']\n",
    "bin_strings_v = []\n",
    "bin_strings_v2 = []\n",
    "\n",
    "for hex in hex_strings:\n",
    "    bin_strings_v.append(binary(hex.replace('0x','')))\n",
    "    \n",
    "for hex in hex_strings2:\n",
    "    bin_strings_v2.append(binary(hex.replace('0x','')))\n",
    "    \n",
    "print(bin_strings_v)\n",
    "print(bin_strings_v2)"
   ]
  },
  {
   "cell_type": "code",
   "execution_count": 4,
   "metadata": {},
   "outputs": [],
   "source": [
    "def remove_space(strings):\n",
    "    new_list = []\n",
    "    for s in strings:\n",
    "        new_list.append(s.replace(' ',''))\n",
    "    return new_list"
   ]
  },
  {
   "cell_type": "code",
   "execution_count": 40,
   "metadata": {},
   "outputs": [],
   "source": [
    "virtual_addresses = remove_space(bin_strings_v)\n",
    "virtual_addresses2 = remove_space(bin_strings_v2)"
   ]
  },
  {
   "cell_type": "code",
   "execution_count": 6,
   "metadata": {},
   "outputs": [],
   "source": [
    "def XOR(string, bit1, bit2):\n",
    "    b1 = string[len(string)-1-bit1]\n",
    "    b2 = string[len(string)-1-bit2]\n",
    "    return int(b1)^int(b2)"
   ]
  },
  {
   "cell_type": "code",
   "execution_count": 8,
   "metadata": {},
   "outputs": [
    {
     "data": {
      "text/plain": [
       "0"
      ]
     },
     "execution_count": 8,
     "metadata": {},
     "output_type": "execute_result"
    }
   ],
   "source": [
    "XOR(virtual_addresses[0], 9, 12)"
   ]
  },
  {
   "cell_type": "code",
   "execution_count": 9,
   "metadata": {},
   "outputs": [],
   "source": [
    "def XOR_HASH(string, start, end):\n",
    "    length = int((start-end+1)/2)\n",
    "    xors = []\n",
    "    for i in range(length):\n",
    "        xors.append(XOR(string, start-i, start-length-i))\n",
    "    return xors"
   ]
  },
  {
   "cell_type": "code",
   "execution_count": 10,
   "metadata": {},
   "outputs": [
    {
     "data": {
      "text/plain": [
       "[1, 0, 0, 0, 0, 0, 0, 0]"
      ]
     },
     "execution_count": 10,
     "metadata": {},
     "output_type": "execute_result"
    }
   ],
   "source": [
    "XOR_HASH(virtual_addresses[0], 23, 8)"
   ]
  },
  {
   "cell_type": "code",
   "execution_count": 11,
   "metadata": {},
   "outputs": [],
   "source": [
    "def XOR7(string):\n",
    "    return XOR_HASH(string, 26, 12)\n",
    "\n",
    "def XOR8(string):\n",
    "    return XOR_HASH(string, 28, 12)"
   ]
  },
  {
   "cell_type": "code",
   "execution_count": 12,
   "metadata": {},
   "outputs": [
    {
     "name": "stdout",
     "output_type": "stream",
     "text": [
      "XOR-7 on eviction set\n",
      "Counter({(0, 0, 0, 0, 1, 0, 0): 1, (0, 0, 0, 0, 1, 0, 1): 1, (0, 0, 0, 0, 1, 1, 0): 1, (0, 0, 0, 0, 1, 1, 1): 1, (0, 0, 0, 1, 0, 0, 0): 1})\n",
      "\n",
      "XOR-8 on eviction set\n",
      "Counter({(0, 0, 0, 0, 0, 1, 0, 0): 1, (0, 0, 0, 0, 0, 1, 0, 1): 1, (0, 0, 0, 0, 0, 1, 1, 0): 1, (0, 0, 0, 0, 0, 1, 1, 1): 1, (0, 0, 0, 0, 1, 0, 0, 0): 1})\n"
     ]
    }
   ],
   "source": [
    "print(\"XOR-7 on eviction set\")\n",
    "xor7s = []\n",
    "for address in virtual_addresses:\n",
    "    xor7s.append(XOR7(address))\n",
    "    #print(xor7s[len(xor7s)-1])\n",
    "print(Counter([tuple(i) for i in xor7s]))\n",
    "\n",
    "print('')\n",
    "print(\"XOR-8 on eviction set\")\n",
    "xor8s = []\n",
    "for address in virtual_addresses:\n",
    "    xor8s.append(XOR8(address))\n",
    "    #print(xor8s[len(xor8s)-1])\n",
    "print(Counter([tuple(i) for i in xor8s]))"
   ]
  },
  {
   "cell_type": "code",
   "execution_count": 37,
   "metadata": {},
   "outputs": [
    {
     "name": "stdout",
     "output_type": "stream",
     "text": [
      "[0, 0, 0, 1, 0, 0, 0, 0, 0, 0]\n",
      "[0, 0, 0, 1, 0, 0, 0, 0, 0, 0]\n",
      "[0, 0, 0, 1, 0, 0, 0, 0, 0, 0]\n",
      "[0, 0, 0, 1, 0, 0, 0, 0, 0, 0]\n",
      "[0, 0, 0, 1, 0, 0, 0, 0, 0, 0]\n",
      "Counter({(0, 0, 0, 1, 0, 0, 0, 0, 0, 0): 5})\n"
     ]
    }
   ],
   "source": [
    "# More uniformely distributed results: XOR-ing the bits that change between our virtual addresses\n",
    "results = []\n",
    "\n",
    "for address in virtual_addresses:\n",
    "    results.append(XOR_HASH(address, 36, 17))\n",
    "    print(results[len(results)-1])\n",
    "    \n",
    "print(Counter([tuple(i) for i in results])) # Check repetitions"
   ]
  },
  {
   "cell_type": "code",
   "execution_count": 41,
   "metadata": {},
   "outputs": [
    {
     "name": "stdout",
     "output_type": "stream",
     "text": [
      "[0, 0, 0, 1, 0, 0, 0, 0, 0, 0]\n",
      "[0, 0, 0, 1, 0, 0, 0, 0, 0, 0]\n",
      "[0, 0, 0, 1, 0, 0, 0, 0, 0, 0]\n",
      "[0, 0, 0, 1, 0, 0, 0, 0, 0, 0]\n",
      "[0, 0, 0, 1, 0, 0, 0, 0, 0, 0]\n",
      "Counter({(0, 0, 0, 1, 0, 0, 0, 0, 0, 0): 5})\n"
     ]
    }
   ],
   "source": [
    "results = []\n",
    "\n",
    "for address in virtual_addresses2:\n",
    "    results.append(XOR_HASH(address, 36, 17))\n",
    "    print(results[len(results)-1])\n",
    "    \n",
    "print(Counter([tuple(i) for i in results])) # Check repetitions"
   ]
  },
  {
   "cell_type": "code",
   "execution_count": null,
   "metadata": {},
   "outputs": [],
   "source": []
  }
 ],
 "metadata": {
  "kernelspec": {
   "display_name": "Python 3",
   "language": "python",
   "name": "python3"
  },
  "language_info": {
   "codemirror_mode": {
    "name": "ipython",
    "version": 3
   },
   "file_extension": ".py",
   "mimetype": "text/x-python",
   "name": "python",
   "nbconvert_exporter": "python",
   "pygments_lexer": "ipython3",
   "version": "3.6.5"
  }
 },
 "nbformat": 4,
 "nbformat_minor": 2
}
